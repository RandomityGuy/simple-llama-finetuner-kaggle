{
  "cells": [
    {
      "cell_type": "code",
      "execution_count": null,
      "metadata": {
        "colab": {
          "base_uri": "https://localhost:8080/"
        },
        "id": "qe77im_2YudR",
        "outputId": "9a8f474b-4c29-463e-c36a-25e1e028c4b8"
      },
      "outputs": [],
      "source": [
        "# Create New Conda Environment and Use Conda Channel \n",
        "!conda create -n newCondaEnvironment -c cctbx202208 -y\n",
        "!source /opt/conda/bin/activate newCondaEnvironment && conda install -c cctbx202208 python -y\n",
        "\n",
        "!/opt/conda/envs/newCondaEnvironment/bin/python3 --version\n",
        "!echo 'print(\"Hello, World!\")' > test.py\n",
        "!/opt/conda/envs/newCondaEnvironment/bin/python3 test.py\n",
        "\n",
        "!sudo rm /opt/conda/bin/python3\n",
        "!sudo ln -sf /opt/conda/envs/newCondaEnvironment/bin/python3 /opt/conda/bin/python3\n",
        "\n",
        "!sudo rm /opt/conda/bin/python3.7\n",
        "!sudo ln -sf /opt/conda/envs/newCondaEnvironment/bin/python3 /opt/conda/bin/python3.7\n",
        "\n",
        "!sudo rm /opt/conda/bin/python\n",
        "!sudo ln -s /opt/conda/envs/newCondaEnvironment/bin/python3 /opt/conda/bin/python\n",
        "\n",
        "!python --version"
      ]
    },
    {
      "cell_type": "code",
      "execution_count": null,
      "metadata": {
        "colab": {
          "base_uri": "https://localhost:8080/"
        },
        "id": "3PM_DilAZD8T",
        "outputId": "83c6ff7e-518f-4ceb-ac9d-df22660f5ce5"
      },
      "outputs": [],
      "source": [
        "![[ -d /content/simple-llama-finetuner ]] \\\n",
        "  || git clone https://github.com/lxe/simple-llama-finetuner.git /content/simple-llama-finetuner\n",
        "!cd /content/simple-llama-finetuner && git pull && pip install -r requirements.txt"
      ]
    },
    {
      "cell_type": "code",
      "execution_count": null,
      "metadata": {
        "colab": {
          "base_uri": "https://localhost:8080/"
        },
        "id": "BD693wIzZKUK",
        "outputId": "a392bff4-9a5b-4c8f-ecd1-6751517cd254"
      },
      "outputs": [],
      "source": []
    }
  ],
  "metadata": {
    "accelerator": "GPU",
    "colab": {
      "provenance": []
    },
    "gpuClass": "standard",
    "kernelspec": {
      "display_name": "Python 3",
      "name": "python3"
    },
    "language_info": {
      "name": "python"
    }
  },
  "nbformat": 4,
  "nbformat_minor": 0
}
